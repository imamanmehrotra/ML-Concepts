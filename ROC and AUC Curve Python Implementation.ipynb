{
 "cells": [
  {
   "cell_type": "markdown",
   "metadata": {},
   "source": [
    "\n",
    "## Selecting the right threshold value using ROC Curve - Multiple Algo check"
   ]
  },
  {
   "cell_type": "code",
   "execution_count": 1,
   "metadata": {},
   "outputs": [],
   "source": [
    "import numpy as np\n",
    "import pandas as pd\n",
    "import seaborn as sns\n",
    "import matplotlib.pyplot as plt\n",
    "%matplotlib inline\n",
    "from sklearn.datasets import make_classification"
   ]
  },
  {
   "cell_type": "code",
   "execution_count": 2,
   "metadata": {},
   "outputs": [],
   "source": [
    "from sklearn.model_selection import train_test_split"
   ]
  },
  {
   "cell_type": "code",
   "execution_count": 4,
   "metadata": {},
   "outputs": [],
   "source": [
    "X,y=make_classification(n_samples=2000,n_classes=2,weights=[1,1],random_state=1)"
   ]
  },
  {
   "cell_type": "code",
   "execution_count": 6,
   "metadata": {},
   "outputs": [
    {
     "data": {
      "text/plain": [
       "(2000, 20)"
      ]
     },
     "execution_count": 6,
     "metadata": {},
     "output_type": "execute_result"
    }
   ],
   "source": [
    "X.shape #independent variables"
   ]
  },
  {
   "cell_type": "code",
   "execution_count": 11,
   "metadata": {},
   "outputs": [
    {
     "data": {
      "text/plain": [
       "(2000,)"
      ]
     },
     "execution_count": 11,
     "metadata": {},
     "output_type": "execute_result"
    }
   ],
   "source": [
    "y.shape #dependent variable"
   ]
  },
  {
   "cell_type": "code",
   "execution_count": 12,
   "metadata": {},
   "outputs": [],
   "source": [
    "X_train,X_test,y_train,y_test=train_test_split(X,y,test_size=0.3,random_state=1)"
   ]
  },
  {
   "cell_type": "code",
   "execution_count": 15,
   "metadata": {},
   "outputs": [],
   "source": [
    "from sklearn.metrics import roc_curve\n",
    "from sklearn.metrics import roc_auc_score"
   ]
  },
  {
   "cell_type": "markdown",
   "metadata": {},
   "source": [
    "## Finding the value of AUC Score using Random forest"
   ]
  },
  {
   "cell_type": "code",
   "execution_count": 33,
   "metadata": {},
   "outputs": [
    {
     "name": "stdout",
     "output_type": "stream",
     "text": [
      "Random Forest ROC-AUC Score on Train Data is 1.0\n",
      "Random Forest ROC-AUC Score on Test Data is 0.9828222222222222\n"
     ]
    }
   ],
   "source": [
    "from sklearn.ensemble import RandomForestClassifier\n",
    "rf_model=RandomForestClassifier()\n",
    "\n",
    "rf_model.fit(X_train,y_train)\n",
    "\n",
    "y_test_pred=rf_model.predict_proba(X_test)\n",
    "y_train_pred=rf_model.predict_proba(X_train)\n",
    "\n",
    "train_score=roc_auc_score(y_train,y_train_pred[:,1])\n",
    "print(\"Random Forest ROC-AUC Score on Train Data is {}\".format(train_score))\n",
    "\n",
    "test_score=roc_auc_score(y_test,y_test_pred[:,1])\n",
    "print(\"Random Forest ROC-AUC Score on Test Data is {}\".format(test_score))"
   ]
  },
  {
   "cell_type": "markdown",
   "metadata": {},
   "source": [
    "## Finding the value of AUC Score using Logistic Regression"
   ]
  },
  {
   "cell_type": "code",
   "execution_count": 40,
   "metadata": {},
   "outputs": [
    {
     "name": "stdout",
     "output_type": "stream",
     "text": [
      "ROC AUC Score obtained by Logisctic Regression on Training Data is 0.9863568922694498\n",
      "ROC AUC Score obtained by Logisctic Regression on Testing Data is 0.9885777777777777\n"
     ]
    }
   ],
   "source": [
    "from sklearn.linear_model import LogisticRegression\n",
    "lr_model=LogisticRegression()\n",
    "\n",
    "lr_model.fit(X_train,y_train)\n",
    "\n",
    "y_train_pred=lr_model.predict_proba(X_train)\n",
    "y_test_pred=lr_model.predict_proba(X_test)\n",
    "\n",
    "train_score=roc_auc_score(y_train,y_train_pred[:,1])\n",
    "test_score=roc_auc_score(y_test,y_test_pred[:,1])\n",
    "\n",
    "print('ROC AUC Score obtained by Logisctic Regression on Training Data is {}'.format(train_score))\n",
    "print('ROC AUC Score obtained by Logisctic Regression on Testing Data is {}'.format(test_score))"
   ]
  },
  {
   "cell_type": "markdown",
   "metadata": {},
   "source": [
    "## Finding the value of AUC Score using Adaboost Classifier"
   ]
  },
  {
   "cell_type": "code",
   "execution_count": 45,
   "metadata": {},
   "outputs": [
    {
     "name": "stdout",
     "output_type": "stream",
     "text": [
      "ROC - AUC Score obtained by Adaboost on training data is 0.9975081174960356\n",
      "ROC - AUC Score obtained by Adaboost on testing data is 0.9826111111111111\n"
     ]
    }
   ],
   "source": [
    "from sklearn.ensemble import AdaBoostClassifier\n",
    "ab_model=AdaBoostClassifier()\n",
    "\n",
    "ab_model.fit(X_train,y_train)\n",
    "\n",
    "y_train_pred=ab_model.predict_proba(X_train)\n",
    "y_test_pred=ab_model.predict_proba(X_test)\n",
    "\n",
    "train_score=roc_auc_score(y_train,y_train_pred[:,1])\n",
    "test_score=roc_auc_score(y_test,y_test_pred[:,1])\n",
    "\n",
    "print('ROC - AUC Score obtained by Adaboost on training data is {}'.format(train_score))\n",
    "print('ROC - AUC Score obtained by Adaboost on testing data is {}'.format(test_score))\n",
    "\n"
   ]
  },
  {
   "cell_type": "markdown",
   "metadata": {},
   "source": [
    "## Finding the value of AUC Score using KNN Classifier"
   ]
  },
  {
   "cell_type": "code",
   "execution_count": 49,
   "metadata": {},
   "outputs": [
    {
     "name": "stdout",
     "output_type": "stream",
     "text": [
      "ROC - AUC Score obtained by KNN on training data is 0.981670071491109\n",
      "ROC - AUC Score obtained by KNN on testing data is 0.9426111111111111\n"
     ]
    }
   ],
   "source": [
    "from sklearn.neighbors import KNeighborsClassifier\n",
    "kn_model=KNeighborsClassifier()\n",
    "\n",
    "kn_model.fit(X_train,y_train)\n",
    "\n",
    "y_train_pred=kn_model.predict_proba(X_train)\n",
    "y_test_pred=kn_model.predict_proba(X_test)\n",
    "\n",
    "train_score=roc_auc_score(y_train,y_train_pred[:,1])\n",
    "test_score=roc_auc_score(y_test,y_test_pred[:,1])\n",
    "\n",
    "print('ROC - AUC Score obtained by KNN on training data is {}'.format(train_score))\n",
    "print('ROC - AUC Score obtained by KNN on testing data is {}'.format(test_score))\n",
    "\n"
   ]
  },
  {
   "cell_type": "markdown",
   "metadata": {},
   "source": [
    "## Finding the mean of scores obtained from all the above models"
   ]
  },
  {
   "cell_type": "code",
   "execution_count": 53,
   "metadata": {},
   "outputs": [],
   "source": [
    "pred=[]\n",
    "for models in [rf_model,lr_model,ab_model,kn_model]:\n",
    "    pred.append(pd.DataFrame(models.predict_proba(X_test)[:,1]))"
   ]
  },
  {
   "cell_type": "code",
   "execution_count": 54,
   "metadata": {},
   "outputs": [
    {
     "data": {
      "text/plain": [
       "[        0\n",
       " 0    0.99\n",
       " 1    0.00\n",
       " 2    0.94\n",
       " 3    0.94\n",
       " 4    0.52\n",
       " ..    ...\n",
       " 595  0.00\n",
       " 596  0.02\n",
       " 597  1.00\n",
       " 598  0.02\n",
       " 599  0.99\n",
       " \n",
       " [600 rows x 1 columns],\n",
       "             0\n",
       " 0    0.991861\n",
       " 1    0.000008\n",
       " 2    0.966929\n",
       " 3    0.761539\n",
       " 4    0.779443\n",
       " ..        ...\n",
       " 595  0.024239\n",
       " 596  0.000003\n",
       " 597  0.984385\n",
       " 598  0.001147\n",
       " 599  0.989540\n",
       " \n",
       " [600 rows x 1 columns],\n",
       "             0\n",
       " 0    0.559186\n",
       " 1    0.463282\n",
       " 2    0.538202\n",
       " 3    0.509875\n",
       " 4    0.490344\n",
       " ..        ...\n",
       " 595  0.461121\n",
       " 596  0.441377\n",
       " 597  0.532403\n",
       " 598  0.441720\n",
       " 599  0.559890\n",
       " \n",
       " [600 rows x 1 columns],\n",
       "        0\n",
       " 0    1.0\n",
       " 1    0.0\n",
       " 2    0.8\n",
       " 3    0.8\n",
       " 4    0.4\n",
       " ..   ...\n",
       " 595  0.0\n",
       " 596  0.0\n",
       " 597  1.0\n",
       " 598  0.2\n",
       " 599  0.8\n",
       " \n",
       " [600 rows x 1 columns]]"
      ]
     },
     "execution_count": 54,
     "metadata": {},
     "output_type": "execute_result"
    }
   ],
   "source": [
    "pred"
   ]
  },
  {
   "cell_type": "code",
   "execution_count": 59,
   "metadata": {},
   "outputs": [],
   "source": [
    "final_pred=pd.concat(pred,axis=1).mean(axis=1)#Concatinating the above dataframes by columns and then calculating the mean across column(left to right)"
   ]
  },
  {
   "cell_type": "code",
   "execution_count": 63,
   "metadata": {},
   "outputs": [
    {
     "name": "stdout",
     "output_type": "stream",
     "text": [
      "Ensemble test ROC-AUC Score is 0.9852666666666666\n"
     ]
    }
   ],
   "source": [
    "print('Ensemble test ROC-AUC Score is {}'.format(roc_auc_score(y_test,final_pred)))"
   ]
  },
  {
   "cell_type": "code",
   "execution_count": 64,
   "metadata": {},
   "outputs": [
    {
     "data": {
      "text/plain": [
       "0      0.885262\n",
       "1      0.115823\n",
       "2      0.811283\n",
       "3      0.752853\n",
       "4      0.547447\n",
       "         ...   \n",
       "595    0.121340\n",
       "596    0.115345\n",
       "597    0.879197\n",
       "598    0.165717\n",
       "599    0.834857\n",
       "Length: 600, dtype: float64"
      ]
     },
     "execution_count": 64,
     "metadata": {},
     "output_type": "execute_result"
    }
   ],
   "source": [
    "final_pred"
   ]
  },
  {
   "cell_type": "markdown",
   "metadata": {},
   "source": [
    "## Calculating the ROC Curve values"
   ]
  },
  {
   "cell_type": "code",
   "execution_count": 65,
   "metadata": {},
   "outputs": [],
   "source": [
    "fpr,tpr,thresholds=roc_curve(y_test,final_pred)"
   ]
  },
  {
   "cell_type": "code",
   "execution_count": 68,
   "metadata": {},
   "outputs": [
    {
     "data": {
      "text/plain": [
       "array([1.91188114, 0.91188114, 0.90172166, 0.90077475, 0.79580575,\n",
       "       0.79162833, 0.79097738, 0.7905558 , 0.78627646, 0.78571156,\n",
       "       0.77299847, 0.77037124, 0.75015102, 0.74887362, 0.71425756,\n",
       "       0.71393711, 0.68506113, 0.68243537, 0.60529968, 0.59550386,\n",
       "       0.58077749, 0.57675354, 0.56995356, 0.56864346, 0.54744674,\n",
       "       0.52627948, 0.52615858, 0.50366892, 0.4471034 , 0.40318654,\n",
       "       0.39629719, 0.34562235, 0.34336612, 0.24349466, 0.24140421,\n",
       "       0.22146234, 0.21896893, 0.21102808, 0.20848417, 0.13333353,\n",
       "       0.1328351 , 0.10498954])"
      ]
     },
     "execution_count": 68,
     "metadata": {},
     "output_type": "execute_result"
    }
   ],
   "source": [
    "thresholds"
   ]
  },
  {
   "cell_type": "code",
   "execution_count": 84,
   "metadata": {},
   "outputs": [],
   "source": [
    "from sklearn.metrics import accuracy_score\n",
    "accuracy_ls=[]\n",
    "for thr in thresholds:\n",
    "    y_pred=np.where(final_pred>thr,1,0)\n",
    "    accuracy_ls.append(accuracy_score(y_test,y_pred,normalize=True))\n",
    "df=pd.concat([pd.Series(thresholds),pd.Series(accuracy_ls)],axis=1)\n",
    "df.columns=['Threshold','Accuracy Score']\n",
    "df.sort_values(by='Accuracy Score',ascending=False, inplace=True)"
   ]
  },
  {
   "cell_type": "code",
   "execution_count": 85,
   "metadata": {},
   "outputs": [
    {
     "data": {
      "text/html": [
       "<div>\n",
       "<style scoped>\n",
       "    .dataframe tbody tr th:only-of-type {\n",
       "        vertical-align: middle;\n",
       "    }\n",
       "\n",
       "    .dataframe tbody tr th {\n",
       "        vertical-align: top;\n",
       "    }\n",
       "\n",
       "    .dataframe thead th {\n",
       "        text-align: right;\n",
       "    }\n",
       "</style>\n",
       "<table border=\"1\" class=\"dataframe\">\n",
       "  <thead>\n",
       "    <tr style=\"text-align: right;\">\n",
       "      <th></th>\n",
       "      <th>Threshold</th>\n",
       "      <th>Accuracy Score</th>\n",
       "    </tr>\n",
       "  </thead>\n",
       "  <tbody>\n",
       "    <tr>\n",
       "      <th>28</th>\n",
       "      <td>0.447103</td>\n",
       "      <td>0.961667</td>\n",
       "    </tr>\n",
       "    <tr>\n",
       "      <th>24</th>\n",
       "      <td>0.547447</td>\n",
       "      <td>0.960000</td>\n",
       "    </tr>\n",
       "    <tr>\n",
       "      <th>27</th>\n",
       "      <td>0.503669</td>\n",
       "      <td>0.958333</td>\n",
       "    </tr>\n",
       "    <tr>\n",
       "      <th>25</th>\n",
       "      <td>0.526279</td>\n",
       "      <td>0.958333</td>\n",
       "    </tr>\n",
       "    <tr>\n",
       "      <th>23</th>\n",
       "      <td>0.568643</td>\n",
       "      <td>0.958333</td>\n",
       "    </tr>\n",
       "    <tr>\n",
       "      <th>26</th>\n",
       "      <td>0.526159</td>\n",
       "      <td>0.956667</td>\n",
       "    </tr>\n",
       "    <tr>\n",
       "      <th>22</th>\n",
       "      <td>0.569954</td>\n",
       "      <td>0.956667</td>\n",
       "    </tr>\n",
       "    <tr>\n",
       "      <th>29</th>\n",
       "      <td>0.403187</td>\n",
       "      <td>0.953333</td>\n",
       "    </tr>\n",
       "    <tr>\n",
       "      <th>21</th>\n",
       "      <td>0.576754</td>\n",
       "      <td>0.951667</td>\n",
       "    </tr>\n",
       "    <tr>\n",
       "      <th>30</th>\n",
       "      <td>0.396297</td>\n",
       "      <td>0.951667</td>\n",
       "    </tr>\n",
       "    <tr>\n",
       "      <th>20</th>\n",
       "      <td>0.580777</td>\n",
       "      <td>0.950000</td>\n",
       "    </tr>\n",
       "    <tr>\n",
       "      <th>18</th>\n",
       "      <td>0.605300</td>\n",
       "      <td>0.945000</td>\n",
       "    </tr>\n",
       "    <tr>\n",
       "      <th>19</th>\n",
       "      <td>0.595504</td>\n",
       "      <td>0.945000</td>\n",
       "    </tr>\n",
       "    <tr>\n",
       "      <th>31</th>\n",
       "      <td>0.345622</td>\n",
       "      <td>0.935000</td>\n",
       "    </tr>\n",
       "    <tr>\n",
       "      <th>32</th>\n",
       "      <td>0.343366</td>\n",
       "      <td>0.933333</td>\n",
       "    </tr>\n",
       "    <tr>\n",
       "      <th>17</th>\n",
       "      <td>0.682435</td>\n",
       "      <td>0.930000</td>\n",
       "    </tr>\n",
       "    <tr>\n",
       "      <th>16</th>\n",
       "      <td>0.685061</td>\n",
       "      <td>0.928333</td>\n",
       "    </tr>\n",
       "    <tr>\n",
       "      <th>15</th>\n",
       "      <td>0.713937</td>\n",
       "      <td>0.920000</td>\n",
       "    </tr>\n",
       "    <tr>\n",
       "      <th>14</th>\n",
       "      <td>0.714258</td>\n",
       "      <td>0.918333</td>\n",
       "    </tr>\n",
       "    <tr>\n",
       "      <th>33</th>\n",
       "      <td>0.243495</td>\n",
       "      <td>0.881667</td>\n",
       "    </tr>\n",
       "    <tr>\n",
       "      <th>34</th>\n",
       "      <td>0.241404</td>\n",
       "      <td>0.880000</td>\n",
       "    </tr>\n",
       "    <tr>\n",
       "      <th>13</th>\n",
       "      <td>0.748874</td>\n",
       "      <td>0.875000</td>\n",
       "    </tr>\n",
       "    <tr>\n",
       "      <th>12</th>\n",
       "      <td>0.750151</td>\n",
       "      <td>0.873333</td>\n",
       "    </tr>\n",
       "    <tr>\n",
       "      <th>35</th>\n",
       "      <td>0.221462</td>\n",
       "      <td>0.861667</td>\n",
       "    </tr>\n",
       "    <tr>\n",
       "      <th>36</th>\n",
       "      <td>0.218969</td>\n",
       "      <td>0.860000</td>\n",
       "    </tr>\n",
       "    <tr>\n",
       "      <th>37</th>\n",
       "      <td>0.211028</td>\n",
       "      <td>0.848333</td>\n",
       "    </tr>\n",
       "    <tr>\n",
       "      <th>11</th>\n",
       "      <td>0.770371</td>\n",
       "      <td>0.848333</td>\n",
       "    </tr>\n",
       "    <tr>\n",
       "      <th>38</th>\n",
       "      <td>0.208484</td>\n",
       "      <td>0.846667</td>\n",
       "    </tr>\n",
       "    <tr>\n",
       "      <th>10</th>\n",
       "      <td>0.772998</td>\n",
       "      <td>0.846667</td>\n",
       "    </tr>\n",
       "    <tr>\n",
       "      <th>9</th>\n",
       "      <td>0.785712</td>\n",
       "      <td>0.831667</td>\n",
       "    </tr>\n",
       "    <tr>\n",
       "      <th>8</th>\n",
       "      <td>0.786276</td>\n",
       "      <td>0.830000</td>\n",
       "    </tr>\n",
       "    <tr>\n",
       "      <th>7</th>\n",
       "      <td>0.790556</td>\n",
       "      <td>0.825000</td>\n",
       "    </tr>\n",
       "    <tr>\n",
       "      <th>5</th>\n",
       "      <td>0.791628</td>\n",
       "      <td>0.823333</td>\n",
       "    </tr>\n",
       "    <tr>\n",
       "      <th>6</th>\n",
       "      <td>0.790977</td>\n",
       "      <td>0.823333</td>\n",
       "    </tr>\n",
       "    <tr>\n",
       "      <th>4</th>\n",
       "      <td>0.795806</td>\n",
       "      <td>0.821667</td>\n",
       "    </tr>\n",
       "    <tr>\n",
       "      <th>39</th>\n",
       "      <td>0.133334</td>\n",
       "      <td>0.716667</td>\n",
       "    </tr>\n",
       "    <tr>\n",
       "      <th>40</th>\n",
       "      <td>0.132835</td>\n",
       "      <td>0.715000</td>\n",
       "    </tr>\n",
       "    <tr>\n",
       "      <th>3</th>\n",
       "      <td>0.900775</td>\n",
       "      <td>0.515000</td>\n",
       "    </tr>\n",
       "    <tr>\n",
       "      <th>2</th>\n",
       "      <td>0.901722</td>\n",
       "      <td>0.513333</td>\n",
       "    </tr>\n",
       "    <tr>\n",
       "      <th>41</th>\n",
       "      <td>0.104990</td>\n",
       "      <td>0.501667</td>\n",
       "    </tr>\n",
       "    <tr>\n",
       "      <th>1</th>\n",
       "      <td>0.911881</td>\n",
       "      <td>0.500000</td>\n",
       "    </tr>\n",
       "    <tr>\n",
       "      <th>0</th>\n",
       "      <td>1.911881</td>\n",
       "      <td>0.500000</td>\n",
       "    </tr>\n",
       "  </tbody>\n",
       "</table>\n",
       "</div>"
      ],
      "text/plain": [
       "    Threshold  Accuracy Score\n",
       "28   0.447103        0.961667\n",
       "24   0.547447        0.960000\n",
       "27   0.503669        0.958333\n",
       "25   0.526279        0.958333\n",
       "23   0.568643        0.958333\n",
       "26   0.526159        0.956667\n",
       "22   0.569954        0.956667\n",
       "29   0.403187        0.953333\n",
       "21   0.576754        0.951667\n",
       "30   0.396297        0.951667\n",
       "20   0.580777        0.950000\n",
       "18   0.605300        0.945000\n",
       "19   0.595504        0.945000\n",
       "31   0.345622        0.935000\n",
       "32   0.343366        0.933333\n",
       "17   0.682435        0.930000\n",
       "16   0.685061        0.928333\n",
       "15   0.713937        0.920000\n",
       "14   0.714258        0.918333\n",
       "33   0.243495        0.881667\n",
       "34   0.241404        0.880000\n",
       "13   0.748874        0.875000\n",
       "12   0.750151        0.873333\n",
       "35   0.221462        0.861667\n",
       "36   0.218969        0.860000\n",
       "37   0.211028        0.848333\n",
       "11   0.770371        0.848333\n",
       "38   0.208484        0.846667\n",
       "10   0.772998        0.846667\n",
       "9    0.785712        0.831667\n",
       "8    0.786276        0.830000\n",
       "7    0.790556        0.825000\n",
       "5    0.791628        0.823333\n",
       "6    0.790977        0.823333\n",
       "4    0.795806        0.821667\n",
       "39   0.133334        0.716667\n",
       "40   0.132835        0.715000\n",
       "3    0.900775        0.515000\n",
       "2    0.901722        0.513333\n",
       "41   0.104990        0.501667\n",
       "1    0.911881        0.500000\n",
       "0    1.911881        0.500000"
      ]
     },
     "execution_count": 85,
     "metadata": {},
     "output_type": "execute_result"
    }
   ],
   "source": [
    "df"
   ]
  },
  {
   "cell_type": "markdown",
   "metadata": {},
   "source": [
    "# Plotting the ROC Curve"
   ]
  },
  {
   "cell_type": "code",
   "execution_count": 97,
   "metadata": {},
   "outputs": [
    {
     "data": {
      "image/png": "[encoded data removed]",
      "text/plain": [
       "<Figure size 432x288 with 1 Axes>"
      ]
     },
     "metadata": {
      "needs_background": "light"
     },
     "output_type": "display_data"
    }
   ],
   "source": [
    "plt.plot(fpr,tpr,color='orange',label='ROC')\n",
    "plt.plot([0,1],[0,1], color='red', linestyle=':')\n",
    "plt.xlabel('FPR')\n",
    "plt.ylabel('TPR')\n",
    "plt.title('ROC Curve')\n",
    "plt.legend()\n",
    "plt.show()"
   ]
  },
  {
   "cell_type": "code",
   "execution_count": null,
   "metadata": {},
   "outputs": [],
   "source": []
  }
 ],
 "metadata": {
  "kernelspec": {
   "display_name": "Python 3",
   "language": "python",
   "name": "python3"
  },
  "language_info": {
   "codemirror_mode": {
    "name": "ipython",
    "version": 3
   },
   "file_extension": ".py",
   "mimetype": "text/x-python",
   "name": "python",
   "nbconvert_exporter": "python",
   "pygments_lexer": "ipython3",
   "version": "3.7.6"
  }
 },
 "nbformat": 4,
 "nbformat_minor": 4
}
